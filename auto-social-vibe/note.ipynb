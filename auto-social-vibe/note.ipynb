{
 "cells": [
  {
   "cell_type": "code",
   "execution_count": 1,
   "metadata": {},
   "outputs": [
    {
     "data": {
      "text/plain": [
       "61"
      ]
     },
     "execution_count": 1,
     "metadata": {},
     "output_type": "execute_result"
    }
   ],
   "source": [
    "5+56"
   ]
  },
  {
   "cell_type": "code",
   "execution_count": 7,
   "metadata": {},
   "outputs": [],
   "source": [
    "aa={\n",
    "  \"answer\": [\n",
    "    {\n",
    "      \"generated_query\": \"Create a blog post about the new tax rule in India for LinkedIn.\",\n",
    "      \"platform\": \"linkedin\"\n",
    "    }\n",
    "  ]\n",
    "}"
   ]
  },
  {
   "cell_type": "code",
   "execution_count": 8,
   "metadata": {},
   "outputs": [
    {
     "data": {
      "text/plain": [
       "'linkedin'"
      ]
     },
     "execution_count": 8,
     "metadata": {},
     "output_type": "execute_result"
    }
   ],
   "source": [
    "aa['answer'][0]['platform']"
   ]
  },
  {
   "cell_type": "code",
   "execution_count": 10,
   "metadata": {},
   "outputs": [
    {
     "ename": "SyntaxError",
     "evalue": "invalid syntax (1685911834.py, line 4)",
     "output_type": "error",
     "traceback": [
      "\u001b[0;36m  Cell \u001b[0;32mIn[10], line 4\u001b[0;36m\u001b[0m\n\u001b[0;31m    json_response = ```json\u001b[0m\n\u001b[0m                    ^\u001b[0m\n\u001b[0;31mSyntaxError\u001b[0m\u001b[0;31m:\u001b[0m invalid syntax\n"
     ]
    }
   ],
   "source": [
    "import json\n",
    "\n",
    "# Example JSON response (as a string)\n",
    "json_response = ```json\n",
    "{\n",
    "  \"answer\": [\n",
    "    {\n",
    "      \"generated_query\": \"Create a blog post about the new tax rules in India, focusing on how they impact professionals and businesses, for LinkedIn.\",\n",
    "      \"platform\": \"linkedin\"\n",
    "    }\n",
    "  ]\n",
    "}\n",
    "```\n",
    "\n",
    "# Convert JSON string to Python dictionary\n",
    "response_data = json.loads(json_response)\n",
    "\n",
    "# Extract values\n",
    "generated_query = response_data[\"answer\"][0][\"generated_query\"]\n",
    "platform = response_data[\"answer\"][0][\"platform\"]\n",
    "\n",
    "# Print extracted values\n",
    "print(\"Generated Query:\", generated_query)\n",
    "print(\"Platform:\", platform)\n"
   ]
  },
  {
   "cell_type": "code",
   "execution_count": 11,
   "metadata": {},
   "outputs": [
    {
     "data": {
      "text/plain": [
       "'linkedin'"
      ]
     },
     "execution_count": 11,
     "metadata": {},
     "output_type": "execute_result"
    }
   ],
   "source": [
    "response_data = [{\"generated_query\":\"Write a blog about the new tax rules in India for LinkedIn.\",\"platform\":\"linkedin\"}]\n",
    "\n",
    "response_data[0]['platform']"
   ]
  },
  {
   "cell_type": "code",
   "execution_count": 17,
   "metadata": {},
   "outputs": [
    {
     "name": "stdout",
     "output_type": "stream",
     "text": [
      "\"generated_query\":\"Write a blog about the new tax rule implementation in India tailored for LinkedIn readers.\"\n"
     ]
    }
   ],
   "source": [
    "import re\n",
    "\n",
    "# Input string\n",
    "input_string = '\"answer:[\"generated_query\":\"Write a blog about the new tax rule implementation in India tailored for LinkedIn readers.\", \"platform\":\"linkedin\"]\"'\n",
    "\n",
    "# Extract the content between the brackets and convert it into a list\n",
    "match = re.search(r'\\[(.*?)\\]', input_string)\n",
    "if match:\n",
    "    # Extracted content between brackets\n",
    "    content = match.group(1)\n",
    "    \n",
    "    # Convert to list by replacing ':' with ',' and treating it as key-value pairs\n",
    "    content_list = [item for item in content.split(\",\")]\n",
    "    \n",
    "    print(content_list[0])\n"
   ]
  },
  {
   "cell_type": "code",
   "execution_count": null,
   "metadata": {},
   "outputs": [],
   "source": []
  }
 ],
 "metadata": {
  "kernelspec": {
   "display_name": "venv",
   "language": "python",
   "name": "python3"
  },
  "language_info": {
   "codemirror_mode": {
    "name": "ipython",
    "version": 3
   },
   "file_extension": ".py",
   "mimetype": "text/x-python",
   "name": "python",
   "nbconvert_exporter": "python",
   "pygments_lexer": "ipython3",
   "version": "3.10.12"
  }
 },
 "nbformat": 4,
 "nbformat_minor": 2
}
